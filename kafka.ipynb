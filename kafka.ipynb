{
 "cells": [
  {
   "cell_type": "code",
   "execution_count": 1,
   "id": "747aefac",
   "metadata": {},
   "outputs": [
    {
     "name": "stdout",
     "output_type": "stream",
     "text": [
      "Collecting kafka-python\n",
      "  Downloading kafka_python-2.0.2-py2.py3-none-any.whl (246 kB)\n",
      "Installing collected packages: kafka-python\n",
      "Successfully installed kafka-python-2.0.2\n"
     ]
    }
   ],
   "source": [
    "!pip install kafka-python"
   ]
  },
  {
   "cell_type": "code",
   "execution_count": 2,
   "id": "7a11f99a",
   "metadata": {},
   "outputs": [],
   "source": [
    "from time import sleep  \n",
    "from json import dumps  \n",
    "from kafka import KafkaProducer"
   ]
  },
  {
   "cell_type": "code",
   "execution_count": 23,
   "id": "a3ac25c7",
   "metadata": {},
   "outputs": [],
   "source": [
    "bootstrap_servers = ['localhost:9092']"
   ]
  },
  {
   "cell_type": "code",
   "execution_count": 24,
   "id": "cea8ba9b",
   "metadata": {},
   "outputs": [],
   "source": [
    "value_serializer = lambda x: dumps(x).encode('utf-8')"
   ]
  },
  {
   "cell_type": "code",
   "execution_count": 25,
   "id": "07891f89",
   "metadata": {},
   "outputs": [
    {
     "data": {
      "text/plain": [
       "<function __main__.<lambda>(x)>"
      ]
     },
     "execution_count": 25,
     "metadata": {},
     "output_type": "execute_result"
    }
   ],
   "source": [
    "value_serializer"
   ]
  },
  {
   "cell_type": "code",
   "execution_count": 31,
   "id": "41fcd8ce",
   "metadata": {},
   "outputs": [
    {
     "ename": "NoBrokersAvailable",
     "evalue": "NoBrokersAvailable",
     "output_type": "error",
     "traceback": [
      "\u001b[1;31m---------------------------------------------------------------------------\u001b[0m",
      "\u001b[1;31mNoBrokersAvailable\u001b[0m                        Traceback (most recent call last)",
      "Input \u001b[1;32mIn [31]\u001b[0m, in \u001b[0;36m<cell line: 1>\u001b[1;34m()\u001b[0m\n\u001b[1;32m----> 1\u001b[0m my_producer \u001b[38;5;241m=\u001b[39m \u001b[43mKafkaProducer\u001b[49m\u001b[43m(\u001b[49m\u001b[43m  \u001b[49m\n\u001b[0;32m      2\u001b[0m \u001b[43m    \u001b[49m\u001b[43mbootstrap_servers\u001b[49m\u001b[43m \u001b[49m\u001b[38;5;241;43m=\u001b[39;49m\u001b[43m \u001b[49m\u001b[43m[\u001b[49m\u001b[38;5;124;43m'\u001b[39;49m\u001b[38;5;124;43mlocalhost:9092\u001b[39;49m\u001b[38;5;124;43m'\u001b[39;49m\u001b[43m]\u001b[49m\u001b[43m,\u001b[49m\u001b[43m  \u001b[49m\n\u001b[0;32m      3\u001b[0m \u001b[43m    \u001b[49m\u001b[43mvalue_serializer\u001b[49m\u001b[43m \u001b[49m\u001b[38;5;241;43m=\u001b[39;49m\u001b[43m \u001b[49m\u001b[38;5;28;43;01mlambda\u001b[39;49;00m\u001b[43m \u001b[49m\u001b[43mx\u001b[49m\u001b[43m:\u001b[49m\u001b[43mdumps\u001b[49m\u001b[43m(\u001b[49m\u001b[43mx\u001b[49m\u001b[43m)\u001b[49m\u001b[38;5;241;43m.\u001b[39;49m\u001b[43mencode\u001b[49m\u001b[43m(\u001b[49m\u001b[38;5;124;43m'\u001b[39;49m\u001b[38;5;124;43mutf-8\u001b[39;49m\u001b[38;5;124;43m'\u001b[39;49m\u001b[43m)\u001b[49m\u001b[43m  \u001b[49m\n\u001b[0;32m      4\u001b[0m \u001b[43m    \u001b[49m\u001b[43m)\u001b[49m\n",
      "File \u001b[1;32m~\\anaconda3\\lib\\site-packages\\kafka\\producer\\kafka.py:381\u001b[0m, in \u001b[0;36mKafkaProducer.__init__\u001b[1;34m(self, **configs)\u001b[0m\n\u001b[0;32m    378\u001b[0m reporters \u001b[38;5;241m=\u001b[39m [reporter() \u001b[38;5;28;01mfor\u001b[39;00m reporter \u001b[38;5;129;01min\u001b[39;00m \u001b[38;5;28mself\u001b[39m\u001b[38;5;241m.\u001b[39mconfig[\u001b[38;5;124m'\u001b[39m\u001b[38;5;124mmetric_reporters\u001b[39m\u001b[38;5;124m'\u001b[39m]]\n\u001b[0;32m    379\u001b[0m \u001b[38;5;28mself\u001b[39m\u001b[38;5;241m.\u001b[39m_metrics \u001b[38;5;241m=\u001b[39m Metrics(metric_config, reporters)\n\u001b[1;32m--> 381\u001b[0m client \u001b[38;5;241m=\u001b[39m KafkaClient(metrics\u001b[38;5;241m=\u001b[39m\u001b[38;5;28mself\u001b[39m\u001b[38;5;241m.\u001b[39m_metrics, metric_group_prefix\u001b[38;5;241m=\u001b[39m\u001b[38;5;124m'\u001b[39m\u001b[38;5;124mproducer\u001b[39m\u001b[38;5;124m'\u001b[39m,\n\u001b[0;32m    382\u001b[0m                      wakeup_timeout_ms\u001b[38;5;241m=\u001b[39m\u001b[38;5;28mself\u001b[39m\u001b[38;5;241m.\u001b[39mconfig[\u001b[38;5;124m'\u001b[39m\u001b[38;5;124mmax_block_ms\u001b[39m\u001b[38;5;124m'\u001b[39m],\n\u001b[0;32m    383\u001b[0m                      \u001b[38;5;241m*\u001b[39m\u001b[38;5;241m*\u001b[39m\u001b[38;5;28mself\u001b[39m\u001b[38;5;241m.\u001b[39mconfig)\n\u001b[0;32m    385\u001b[0m \u001b[38;5;66;03m# Get auto-discovered version from client if necessary\u001b[39;00m\n\u001b[0;32m    386\u001b[0m \u001b[38;5;28;01mif\u001b[39;00m \u001b[38;5;28mself\u001b[39m\u001b[38;5;241m.\u001b[39mconfig[\u001b[38;5;124m'\u001b[39m\u001b[38;5;124mapi_version\u001b[39m\u001b[38;5;124m'\u001b[39m] \u001b[38;5;129;01mis\u001b[39;00m \u001b[38;5;28;01mNone\u001b[39;00m:\n",
      "File \u001b[1;32m~\\anaconda3\\lib\\site-packages\\kafka\\client_async.py:244\u001b[0m, in \u001b[0;36mKafkaClient.__init__\u001b[1;34m(self, **configs)\u001b[0m\n\u001b[0;32m    242\u001b[0m \u001b[38;5;28;01mif\u001b[39;00m \u001b[38;5;28mself\u001b[39m\u001b[38;5;241m.\u001b[39mconfig[\u001b[38;5;124m'\u001b[39m\u001b[38;5;124mapi_version\u001b[39m\u001b[38;5;124m'\u001b[39m] \u001b[38;5;129;01mis\u001b[39;00m \u001b[38;5;28;01mNone\u001b[39;00m:\n\u001b[0;32m    243\u001b[0m     check_timeout \u001b[38;5;241m=\u001b[39m \u001b[38;5;28mself\u001b[39m\u001b[38;5;241m.\u001b[39mconfig[\u001b[38;5;124m'\u001b[39m\u001b[38;5;124mapi_version_auto_timeout_ms\u001b[39m\u001b[38;5;124m'\u001b[39m] \u001b[38;5;241m/\u001b[39m \u001b[38;5;241m1000\u001b[39m\n\u001b[1;32m--> 244\u001b[0m     \u001b[38;5;28mself\u001b[39m\u001b[38;5;241m.\u001b[39mconfig[\u001b[38;5;124m'\u001b[39m\u001b[38;5;124mapi_version\u001b[39m\u001b[38;5;124m'\u001b[39m] \u001b[38;5;241m=\u001b[39m \u001b[38;5;28;43mself\u001b[39;49m\u001b[38;5;241;43m.\u001b[39;49m\u001b[43mcheck_version\u001b[49m\u001b[43m(\u001b[49m\u001b[43mtimeout\u001b[49m\u001b[38;5;241;43m=\u001b[39;49m\u001b[43mcheck_timeout\u001b[49m\u001b[43m)\u001b[49m\n",
      "File \u001b[1;32m~\\anaconda3\\lib\\site-packages\\kafka\\client_async.py:927\u001b[0m, in \u001b[0;36mKafkaClient.check_version\u001b[1;34m(self, node_id, timeout, strict)\u001b[0m\n\u001b[0;32m    924\u001b[0m \u001b[38;5;66;03m# Timeout\u001b[39;00m\n\u001b[0;32m    925\u001b[0m \u001b[38;5;28;01melse\u001b[39;00m:\n\u001b[0;32m    926\u001b[0m     \u001b[38;5;28mself\u001b[39m\u001b[38;5;241m.\u001b[39m_lock\u001b[38;5;241m.\u001b[39mrelease()\n\u001b[1;32m--> 927\u001b[0m     \u001b[38;5;28;01mraise\u001b[39;00m Errors\u001b[38;5;241m.\u001b[39mNoBrokersAvailable()\n",
      "\u001b[1;31mNoBrokersAvailable\u001b[0m: NoBrokersAvailable"
     ]
    }
   ],
   "source": [
    "my_producer = KafkaProducer(  \n",
    "    bootstrap_servers = ['localhost:9092'],  \n",
    "    value_serializer = lambda x:dumps(x).encode('utf-8')  \n",
    "    )  "
   ]
  },
  {
   "cell_type": "code",
   "execution_count": 30,
   "id": "fd7acfb3",
   "metadata": {},
   "outputs": [
    {
     "ename": "NoBrokersAvailable",
     "evalue": "NoBrokersAvailable",
     "output_type": "error",
     "traceback": [
      "\u001b[1;31m---------------------------------------------------------------------------\u001b[0m",
      "\u001b[1;31mNoBrokersAvailable\u001b[0m                        Traceback (most recent call last)",
      "Input \u001b[1;32mIn [30]\u001b[0m, in \u001b[0;36m<cell line: 2>\u001b[1;34m()\u001b[0m\n\u001b[0;32m      1\u001b[0m \u001b[38;5;28;01mfrom\u001b[39;00m \u001b[38;5;21;01mkafka\u001b[39;00m \u001b[38;5;28;01mimport\u001b[39;00m KafkaConsumer\n\u001b[1;32m----> 2\u001b[0m consumer \u001b[38;5;241m=\u001b[39m \u001b[43mKafkaConsumer\u001b[49m\u001b[43m(\u001b[49m\u001b[38;5;124;43m'\u001b[39;49m\u001b[38;5;124;43mtest\u001b[39;49m\u001b[38;5;124;43m'\u001b[39;49m\u001b[43m)\u001b[49m\n\u001b[0;32m      3\u001b[0m \u001b[38;5;28;01mfor\u001b[39;00m msg \u001b[38;5;129;01min\u001b[39;00m consumer:\n\u001b[0;32m      4\u001b[0m     \u001b[38;5;28mprint\u001b[39m (msg)\n",
      "File \u001b[1;32m~\\anaconda3\\lib\\site-packages\\kafka\\consumer\\group.py:356\u001b[0m, in \u001b[0;36mKafkaConsumer.__init__\u001b[1;34m(self, *topics, **configs)\u001b[0m\n\u001b[0;32m    352\u001b[0m         \u001b[38;5;28mself\u001b[39m\u001b[38;5;241m.\u001b[39mconfig[\u001b[38;5;124m'\u001b[39m\u001b[38;5;124mapi_version\u001b[39m\u001b[38;5;124m'\u001b[39m] \u001b[38;5;241m=\u001b[39m \u001b[38;5;28mtuple\u001b[39m(\u001b[38;5;28mmap\u001b[39m(\u001b[38;5;28mint\u001b[39m, str_version\u001b[38;5;241m.\u001b[39msplit(\u001b[38;5;124m'\u001b[39m\u001b[38;5;124m.\u001b[39m\u001b[38;5;124m'\u001b[39m)))\n\u001b[0;32m    353\u001b[0m     log\u001b[38;5;241m.\u001b[39mwarning(\u001b[38;5;124m'\u001b[39m\u001b[38;5;124muse api_version=\u001b[39m\u001b[38;5;132;01m%s\u001b[39;00m\u001b[38;5;124m [tuple] -- \u001b[39m\u001b[38;5;124m\"\u001b[39m\u001b[38;5;132;01m%s\u001b[39;00m\u001b[38;5;124m\"\u001b[39m\u001b[38;5;124m as str is deprecated\u001b[39m\u001b[38;5;124m'\u001b[39m,\n\u001b[0;32m    354\u001b[0m                 \u001b[38;5;28mstr\u001b[39m(\u001b[38;5;28mself\u001b[39m\u001b[38;5;241m.\u001b[39mconfig[\u001b[38;5;124m'\u001b[39m\u001b[38;5;124mapi_version\u001b[39m\u001b[38;5;124m'\u001b[39m]), str_version)\n\u001b[1;32m--> 356\u001b[0m \u001b[38;5;28mself\u001b[39m\u001b[38;5;241m.\u001b[39m_client \u001b[38;5;241m=\u001b[39m KafkaClient(metrics\u001b[38;5;241m=\u001b[39m\u001b[38;5;28mself\u001b[39m\u001b[38;5;241m.\u001b[39m_metrics, \u001b[38;5;241m*\u001b[39m\u001b[38;5;241m*\u001b[39m\u001b[38;5;28mself\u001b[39m\u001b[38;5;241m.\u001b[39mconfig)\n\u001b[0;32m    358\u001b[0m \u001b[38;5;66;03m# Get auto-discovered version from client if necessary\u001b[39;00m\n\u001b[0;32m    359\u001b[0m \u001b[38;5;28;01mif\u001b[39;00m \u001b[38;5;28mself\u001b[39m\u001b[38;5;241m.\u001b[39mconfig[\u001b[38;5;124m'\u001b[39m\u001b[38;5;124mapi_version\u001b[39m\u001b[38;5;124m'\u001b[39m] \u001b[38;5;129;01mis\u001b[39;00m \u001b[38;5;28;01mNone\u001b[39;00m:\n",
      "File \u001b[1;32m~\\anaconda3\\lib\\site-packages\\kafka\\client_async.py:244\u001b[0m, in \u001b[0;36mKafkaClient.__init__\u001b[1;34m(self, **configs)\u001b[0m\n\u001b[0;32m    242\u001b[0m \u001b[38;5;28;01mif\u001b[39;00m \u001b[38;5;28mself\u001b[39m\u001b[38;5;241m.\u001b[39mconfig[\u001b[38;5;124m'\u001b[39m\u001b[38;5;124mapi_version\u001b[39m\u001b[38;5;124m'\u001b[39m] \u001b[38;5;129;01mis\u001b[39;00m \u001b[38;5;28;01mNone\u001b[39;00m:\n\u001b[0;32m    243\u001b[0m     check_timeout \u001b[38;5;241m=\u001b[39m \u001b[38;5;28mself\u001b[39m\u001b[38;5;241m.\u001b[39mconfig[\u001b[38;5;124m'\u001b[39m\u001b[38;5;124mapi_version_auto_timeout_ms\u001b[39m\u001b[38;5;124m'\u001b[39m] \u001b[38;5;241m/\u001b[39m \u001b[38;5;241m1000\u001b[39m\n\u001b[1;32m--> 244\u001b[0m     \u001b[38;5;28mself\u001b[39m\u001b[38;5;241m.\u001b[39mconfig[\u001b[38;5;124m'\u001b[39m\u001b[38;5;124mapi_version\u001b[39m\u001b[38;5;124m'\u001b[39m] \u001b[38;5;241m=\u001b[39m \u001b[38;5;28;43mself\u001b[39;49m\u001b[38;5;241;43m.\u001b[39;49m\u001b[43mcheck_version\u001b[49m\u001b[43m(\u001b[49m\u001b[43mtimeout\u001b[49m\u001b[38;5;241;43m=\u001b[39;49m\u001b[43mcheck_timeout\u001b[49m\u001b[43m)\u001b[49m\n",
      "File \u001b[1;32m~\\anaconda3\\lib\\site-packages\\kafka\\client_async.py:927\u001b[0m, in \u001b[0;36mKafkaClient.check_version\u001b[1;34m(self, node_id, timeout, strict)\u001b[0m\n\u001b[0;32m    924\u001b[0m \u001b[38;5;66;03m# Timeout\u001b[39;00m\n\u001b[0;32m    925\u001b[0m \u001b[38;5;28;01melse\u001b[39;00m:\n\u001b[0;32m    926\u001b[0m     \u001b[38;5;28mself\u001b[39m\u001b[38;5;241m.\u001b[39m_lock\u001b[38;5;241m.\u001b[39mrelease()\n\u001b[1;32m--> 927\u001b[0m     \u001b[38;5;28;01mraise\u001b[39;00m Errors\u001b[38;5;241m.\u001b[39mNoBrokersAvailable()\n",
      "\u001b[1;31mNoBrokersAvailable\u001b[0m: NoBrokersAvailable"
     ]
    }
   ],
   "source": [
    "from kafka import KafkaConsumer\n",
    "consumer = KafkaConsumer('test')\n",
    "for msg in consumer:\n",
    "    print (msg)"
   ]
  },
  {
   "cell_type": "code",
   "execution_count": 29,
   "id": "2e790512",
   "metadata": {},
   "outputs": [
    {
     "data": {
      "text/plain": [
       "<kafka.producer.kafka.KafkaProducer at 0x1e9ed084580>"
      ]
     },
     "execution_count": 29,
     "metadata": {},
     "output_type": "execute_result"
    }
   ],
   "source": [
    "KafkaProducer(bootstrap_servers=['localhost:9092'],\n",
    "              api_version=(0,11,5),\n",
    "              value_serializer=lambda x: dumps(x).encode('utf-8'))"
   ]
  },
  {
   "cell_type": "code",
   "execution_count": 1,
   "id": "fa9ac335",
   "metadata": {},
   "outputs": [
    {
     "name": "stderr",
     "output_type": "stream",
     "text": [
      "'JMX_PORT' is not recognized as an internal or external command,\n",
      "operable program or batch file.\n"
     ]
    }
   ],
   "source": [
    "!JMX_PORT=8004 C:/Users/91990/Downloads/kafka-3.2.3-src/bin/kafka-console-producer.sh --broker-list localhost:2181 --topic my_favorite_topic"
   ]
  },
  {
   "cell_type": "code",
   "execution_count": 18,
   "id": "9e03c165",
   "metadata": {},
   "outputs": [],
   "source": [
    "!C:/Users/91990/Downloads/kafka-3.2.3-src/bin/kafka-console-producer.sh --broker-list localhost:9092 --topic my_favorite_topic"
   ]
  },
  {
   "cell_type": "code",
   "execution_count": 1,
   "id": "d825d920",
   "metadata": {},
   "outputs": [],
   "source": [
    "import requests"
   ]
  },
  {
   "cell_type": "code",
   "execution_count": 2,
   "id": "06f2feb3",
   "metadata": {},
   "outputs": [
    {
     "data": {
      "text/plain": [
       "<Response [200]>"
      ]
     },
     "execution_count": 2,
     "metadata": {},
     "output_type": "execute_result"
    }
   ],
   "source": [
    "#response = requests.post(f\"{IMING_API_BASE_URL}/profiles/inventory/presets/default/start\")\n",
    "response = requests.get(f\"http://impinj-14-e3-14.local/api/v1/kafka\")\n",
    "response"
   ]
  },
  {
   "cell_type": "code",
   "execution_count": 4,
   "id": "fe14efb7",
   "metadata": {},
   "outputs": [
    {
     "data": {
      "text/plain": [
       "<Response [404]>"
      ]
     },
     "execution_count": 4,
     "metadata": {},
     "output_type": "execute_result"
    }
   ],
   "source": [
    "response = requests.get(f\"http://impinj-14-e3-14.local/api/v1/profiles/stop\")\n",
    "response"
   ]
  },
  {
   "cell_type": "code",
   "execution_count": 3,
   "id": "902a96e1",
   "metadata": {},
   "outputs": [
    {
     "data": {
      "text/plain": [
       "<Response [204]>"
      ]
     },
     "execution_count": 3,
     "metadata": {},
     "output_type": "execute_result"
    }
   ],
   "source": [
    "response = requests.post(f\"http://impinj-14-e3-14.local/api/v1/profiles/inventory/presets/default/start\")\n",
    "response"
   ]
  },
  {
   "cell_type": "code",
   "execution_count": 2,
   "id": "0d4a6c05",
   "metadata": {},
   "outputs": [],
   "source": [
    "!C:/Users/91990/Downloads/kafka-3.2.3-src/bin/zookeeper-server-start.sh config/zookeeper.properties"
   ]
  },
  {
   "cell_type": "code",
   "execution_count": 4,
   "id": "c9fcfc2e",
   "metadata": {},
   "outputs": [],
   "source": [
    "!C:/Users/91990/Downloads/kafka-3.2.3-src/bin/kafka-server-start.sh config/server.properties "
   ]
  },
  {
   "cell_type": "code",
   "execution_count": 3,
   "id": "45a38b01",
   "metadata": {},
   "outputs": [
    {
     "ename": "NoBrokersAvailable",
     "evalue": "NoBrokersAvailable",
     "output_type": "error",
     "traceback": [
      "\u001b[1;31m---------------------------------------------------------------------------\u001b[0m",
      "\u001b[1;31mNoBrokersAvailable\u001b[0m                        Traceback (most recent call last)",
      "Input \u001b[1;32mIn [3]\u001b[0m, in \u001b[0;36m<cell line: 2>\u001b[1;34m()\u001b[0m\n\u001b[0;32m      1\u001b[0m \u001b[38;5;28;01mfrom\u001b[39;00m \u001b[38;5;21;01mkafka\u001b[39;00m \u001b[38;5;28;01mimport\u001b[39;00m KafkaProducer\n\u001b[1;32m----> 2\u001b[0m producer \u001b[38;5;241m=\u001b[39m \u001b[43mKafkaProducer\u001b[49m\u001b[43m(\u001b[49m\u001b[43mbootstrap_servers\u001b[49m\u001b[38;5;241;43m=\u001b[39;49m\u001b[38;5;124;43m'\u001b[39;49m\u001b[38;5;124;43mlocalhost:9094\u001b[39;49m\u001b[38;5;124;43m'\u001b[39;49m\u001b[43m)\u001b[49m\n\u001b[0;32m      3\u001b[0m \u001b[38;5;28;01mfor\u001b[39;00m _ \u001b[38;5;129;01min\u001b[39;00m \u001b[38;5;28mrange\u001b[39m(\u001b[38;5;241m100\u001b[39m):\n\u001b[0;32m      4\u001b[0m     producer\u001b[38;5;241m.\u001b[39msend(\u001b[38;5;124m'\u001b[39m\u001b[38;5;124mtest\u001b[39m\u001b[38;5;124m'\u001b[39m, \u001b[38;5;124mb\u001b[39m\u001b[38;5;124m'\u001b[39m\u001b[38;5;124msome_message_bytes\u001b[39m\u001b[38;5;124m'\u001b[39m)\n",
      "File \u001b[1;32m~\\anaconda3\\lib\\site-packages\\kafka\\producer\\kafka.py:381\u001b[0m, in \u001b[0;36mKafkaProducer.__init__\u001b[1;34m(self, **configs)\u001b[0m\n\u001b[0;32m    378\u001b[0m reporters \u001b[38;5;241m=\u001b[39m [reporter() \u001b[38;5;28;01mfor\u001b[39;00m reporter \u001b[38;5;129;01min\u001b[39;00m \u001b[38;5;28mself\u001b[39m\u001b[38;5;241m.\u001b[39mconfig[\u001b[38;5;124m'\u001b[39m\u001b[38;5;124mmetric_reporters\u001b[39m\u001b[38;5;124m'\u001b[39m]]\n\u001b[0;32m    379\u001b[0m \u001b[38;5;28mself\u001b[39m\u001b[38;5;241m.\u001b[39m_metrics \u001b[38;5;241m=\u001b[39m Metrics(metric_config, reporters)\n\u001b[1;32m--> 381\u001b[0m client \u001b[38;5;241m=\u001b[39m KafkaClient(metrics\u001b[38;5;241m=\u001b[39m\u001b[38;5;28mself\u001b[39m\u001b[38;5;241m.\u001b[39m_metrics, metric_group_prefix\u001b[38;5;241m=\u001b[39m\u001b[38;5;124m'\u001b[39m\u001b[38;5;124mproducer\u001b[39m\u001b[38;5;124m'\u001b[39m,\n\u001b[0;32m    382\u001b[0m                      wakeup_timeout_ms\u001b[38;5;241m=\u001b[39m\u001b[38;5;28mself\u001b[39m\u001b[38;5;241m.\u001b[39mconfig[\u001b[38;5;124m'\u001b[39m\u001b[38;5;124mmax_block_ms\u001b[39m\u001b[38;5;124m'\u001b[39m],\n\u001b[0;32m    383\u001b[0m                      \u001b[38;5;241m*\u001b[39m\u001b[38;5;241m*\u001b[39m\u001b[38;5;28mself\u001b[39m\u001b[38;5;241m.\u001b[39mconfig)\n\u001b[0;32m    385\u001b[0m \u001b[38;5;66;03m# Get auto-discovered version from client if necessary\u001b[39;00m\n\u001b[0;32m    386\u001b[0m \u001b[38;5;28;01mif\u001b[39;00m \u001b[38;5;28mself\u001b[39m\u001b[38;5;241m.\u001b[39mconfig[\u001b[38;5;124m'\u001b[39m\u001b[38;5;124mapi_version\u001b[39m\u001b[38;5;124m'\u001b[39m] \u001b[38;5;129;01mis\u001b[39;00m \u001b[38;5;28;01mNone\u001b[39;00m:\n",
      "File \u001b[1;32m~\\anaconda3\\lib\\site-packages\\kafka\\client_async.py:244\u001b[0m, in \u001b[0;36mKafkaClient.__init__\u001b[1;34m(self, **configs)\u001b[0m\n\u001b[0;32m    242\u001b[0m \u001b[38;5;28;01mif\u001b[39;00m \u001b[38;5;28mself\u001b[39m\u001b[38;5;241m.\u001b[39mconfig[\u001b[38;5;124m'\u001b[39m\u001b[38;5;124mapi_version\u001b[39m\u001b[38;5;124m'\u001b[39m] \u001b[38;5;129;01mis\u001b[39;00m \u001b[38;5;28;01mNone\u001b[39;00m:\n\u001b[0;32m    243\u001b[0m     check_timeout \u001b[38;5;241m=\u001b[39m \u001b[38;5;28mself\u001b[39m\u001b[38;5;241m.\u001b[39mconfig[\u001b[38;5;124m'\u001b[39m\u001b[38;5;124mapi_version_auto_timeout_ms\u001b[39m\u001b[38;5;124m'\u001b[39m] \u001b[38;5;241m/\u001b[39m \u001b[38;5;241m1000\u001b[39m\n\u001b[1;32m--> 244\u001b[0m     \u001b[38;5;28mself\u001b[39m\u001b[38;5;241m.\u001b[39mconfig[\u001b[38;5;124m'\u001b[39m\u001b[38;5;124mapi_version\u001b[39m\u001b[38;5;124m'\u001b[39m] \u001b[38;5;241m=\u001b[39m \u001b[38;5;28;43mself\u001b[39;49m\u001b[38;5;241;43m.\u001b[39;49m\u001b[43mcheck_version\u001b[49m\u001b[43m(\u001b[49m\u001b[43mtimeout\u001b[49m\u001b[38;5;241;43m=\u001b[39;49m\u001b[43mcheck_timeout\u001b[49m\u001b[43m)\u001b[49m\n",
      "File \u001b[1;32m~\\anaconda3\\lib\\site-packages\\kafka\\client_async.py:927\u001b[0m, in \u001b[0;36mKafkaClient.check_version\u001b[1;34m(self, node_id, timeout, strict)\u001b[0m\n\u001b[0;32m    924\u001b[0m \u001b[38;5;66;03m# Timeout\u001b[39;00m\n\u001b[0;32m    925\u001b[0m \u001b[38;5;28;01melse\u001b[39;00m:\n\u001b[0;32m    926\u001b[0m     \u001b[38;5;28mself\u001b[39m\u001b[38;5;241m.\u001b[39m_lock\u001b[38;5;241m.\u001b[39mrelease()\n\u001b[1;32m--> 927\u001b[0m     \u001b[38;5;28;01mraise\u001b[39;00m Errors\u001b[38;5;241m.\u001b[39mNoBrokersAvailable()\n",
      "\u001b[1;31mNoBrokersAvailable\u001b[0m: NoBrokersAvailable"
     ]
    }
   ],
   "source": [
    "from kafka import KafkaProducer\n",
    "producer = KafkaProducer(bootstrap_servers='localhost:9094')\n",
    "for _ in range(100):\n",
    "    producer.send('test', b'some_message_bytes')"
   ]
  },
  {
   "cell_type": "code",
   "execution_count": null,
   "id": "d716ff6a",
   "metadata": {},
   "outputs": [],
   "source": [
    "response = requests.get(f\"http://impinj-14-e3-14.local/api/v1/data/stream\")\n",
    "response\n"
   ]
  },
  {
   "cell_type": "code",
   "execution_count": null,
   "id": "9405ee9f",
   "metadata": {},
   "outputs": [],
   "source": [
    "response = requests.get(f\"http://impinj-14-e3-14.local/api/v1/profiles/stop\")\n",
    "response\n"
   ]
  },
  {
   "cell_type": "code",
   "execution_count": null,
   "id": "e2a78821",
   "metadata": {},
   "outputs": [],
   "source": [
    "response = requests.post(f\"http://impinj-14-e3-14.local/api/v1/profiles/inventory/presets/default/start\")\n",
    "response"
   ]
  },
  {
   "cell_type": "code",
   "execution_count": 14,
   "id": "c0c06e8f",
   "metadata": {},
   "outputs": [
    {
     "name": "stderr",
     "output_type": "stream",
     "text": [
      "usage: ipykernel_launcher.py [-h] --reader READER [--start TOSTART] [--store CUSTOMPRESETPATH] [--id PRESETID]\n",
      "                             [--delete TODELETE] [--details DETAILS] [--presets] [--stop] [--status] [--schema]\n",
      "                             [--stream] [--profiles]\n",
      "ipykernel_launcher.py: error: the following arguments are required: --reader\n"
     ]
    },
    {
     "ename": "SystemExit",
     "evalue": "2",
     "output_type": "error",
     "traceback": [
      "An exception has occurred, use %tb to see the full traceback.\n",
      "\u001b[1;31mSystemExit\u001b[0m\u001b[1;31m:\u001b[0m 2\n"
     ]
    },
    {
     "name": "stderr",
     "output_type": "stream",
     "text": [
      "C:\\Users\\91990\\anaconda3\\lib\\site-packages\\IPython\\core\\interactiveshell.py:3377: UserWarning: To exit: use 'exit', 'quit', or Ctrl-D.\n",
      "  warn(\"To exit: use 'exit', 'quit', or Ctrl-D.\", stacklevel=1)\n"
     ]
    }
   ],
   "source": [
    "#!/usr/bin/env python\n",
    "\n",
    "import argparse\n",
    "\n",
    "import signal\n",
    "import sys\n",
    "\n",
    "import requests\n",
    "try:\n",
    "    from urlparse import urljoin\n",
    "except ImportError:\n",
    "    from urllib.parse import urljoin\n",
    "import json\n",
    "\n",
    "\n",
    "def signal_handler(signal, frame):\n",
    "    sys.exit(0)\n",
    "\n",
    "\n",
    "def get_command_line_arguments():\n",
    "    parser = argparse.ArgumentParser(description='This is an example program to interact with a RAIN RFID reader using the Impinj Reader API.')\n",
    "    parser.add_argument('--reader', action='store', dest='reader', required=True, help='the hostname of the reader supporting the Impinj Reader API. Note that Speedway-based readers will need to include port number 8000, e.g. speedwayr-fa-1a-1a:8000).')\n",
    "    parser.add_argument('--start', action='store', dest='toStart', help='the preset to start')\n",
    "    parser.add_argument('--store', action='store', dest='customPresetPath', help='a JSON file containing a preset configuration')\n",
    "    parser.add_argument('--id', action=\"store\", dest='presetId', help='the id of a preset')\n",
    "    parser.add_argument('--delete', action='store', dest='toDelete', help='the custom preset to delete')\n",
    "    parser.add_argument('--details', action='store', dest='details', help='gets the configuration for this preset')\n",
    "    parser.add_argument('--presets', action='store_true', dest='listPresets', help='lists the current set of presets')\n",
    "    parser.add_argument('--stop', action='store_true', dest='stop', help='stops the active preset')\n",
    "    parser.add_argument('--status', action='store_true', dest='status', help='gets the reader status')\n",
    "    parser.add_argument('--schema', action='store_true', dest='schema', help='gets the inventory preset schema')\n",
    "    parser.add_argument('--stream', action='store_true', dest='stream', help='connects to the event stream')\n",
    "    parser.add_argument('--profiles', action='store_true', dest='listProfiles', help=\"displays the profiles supported by the reader\")\n",
    "    return parser.parse_args()\n",
    "\n",
    "\n",
    "def check_response(response, print_body=True):\n",
    "    print('HTTP Response: {0} {1}'.format(response.status_code, response.reason))\n",
    "    if print_body:\n",
    "        try:\n",
    "            print('HTTP Response Body:')\n",
    "            print(json.dumps(response.json(), indent=4))\n",
    "        except ValueError:\n",
    "            print('<empty response>')\n",
    "    if response.status_code != 200:\n",
    "        sys.exit(response.status_code)\n",
    "    print(''.center(80, '='))\n",
    "\n",
    "\n",
    "def print_request(http_method, request_url):\n",
    "    print(''.center(80, '='))\n",
    "    print('{0} {1}'.format(http_method, request_url))\n",
    "    print(''.center(80, '='))\n",
    "\n",
    "\n",
    "def main():\n",
    "    # Handle Ctrl+C interrupt\n",
    "    signal.signal(signal.SIGINT, signal_handler)\n",
    "\n",
    "    arguments = get_command_line_arguments()\n",
    "\n",
    "    hostname = 'http://{0}'.format(arguments.reader)\n",
    "\n",
    "    try:\n",
    "        requests.get(urljoin(hostname, '/api/v1/status')).raise_for_status()\n",
    "    except (requests.ConnectionError, requests.exceptions.HTTPError):\n",
    "        print('Error : Unable to connect to the Impinj Reader API on \"{0}\"'.format(hostname))\n",
    "        if len(hostname.split(':')) == 2:\n",
    "            print('        Have you provided the port number with your reader hostname?')\n",
    "            print('        ex.  --reader <your-reader-hostname>:<api-port>')\n",
    "        sys.exit(1)\n",
    "\n",
    "    if arguments.stop:\n",
    "        stop_request_url = urljoin(hostname, 'api/v1/profiles/stop')\n",
    "        print_request('POST', stop_request_url)\n",
    "        check_response(requests.post(stop_request_url))\n",
    "\n",
    "    if arguments.schema:\n",
    "        schema_request_url = urljoin(hostname, '/api/v1/profiles/inventory/presets-schema')\n",
    "        print_request('GET', schema_request_url)\n",
    "        check_response(requests.get(schema_request_url))\n",
    "\n",
    "    if arguments.status:\n",
    "        status_request_url = urljoin(hostname, '/api/v1/status')\n",
    "        print_request('GET', status_request_url)\n",
    "        check_response(requests.get(status_request_url))\n",
    "\n",
    "    if arguments.toDelete:\n",
    "        delete_request_url = '{0}/api/v1/profiles/inventory/presets/{1}'.format(hostname, arguments.toDelete)\n",
    "        print_request('DELETE', delete_request_url)\n",
    "        check_response(requests.delete(delete_request_url))\n",
    "\n",
    "    if arguments.customPresetPath:\n",
    "        with open(arguments.customPresetPath) as customPresetFile:\n",
    "            # Add or update the provided preset\n",
    "            try:\n",
    "                custom_preset = json.load(customPresetFile)\n",
    "                if arguments.presetId is None:\n",
    "                    print('Error : An id must be provided for custom presets.')\n",
    "                    sys.exit(1)\n",
    "                preset_request_url = '{0}/api/v1/profiles/inventory/presets/{1}'.format(hostname, arguments.presetId)\n",
    "                print_request('PUT', preset_request_url)\n",
    "                check_response(requests.put(preset_request_url, data=json.dumps(custom_preset)))\n",
    "            except ValueError:\n",
    "                print('Error : the provided custom configuration contains invalid json')\n",
    "                sys.exit(1)\n",
    "\n",
    "    if arguments.listPresets:\n",
    "        get_preset_list_request_url = urljoin(hostname, '/api/v1/profiles/inventory/presets')\n",
    "        print_request('GET', get_preset_list_request_url)\n",
    "        check_response(requests.get(get_preset_list_request_url))\n",
    "\n",
    "    if arguments.details:\n",
    "        get_preset_details_request_url = '{0}/api/v1/profiles/inventory/presets/{1}'.format(hostname, arguments.details)\n",
    "        print_request('GET', get_preset_details_request_url)\n",
    "        check_response(requests.get(get_preset_details_request_url))\n",
    "\n",
    "    if arguments.toStart:\n",
    "        start_request_url = '{0}/api/v1/profiles/inventory/presets/{1}/start'.format(hostname, arguments.toStart)\n",
    "        print_request('POST', start_request_url)\n",
    "        check_response(requests.post(start_request_url))\n",
    "\n",
    "    if arguments.stream:\n",
    "        event_stream_request_url = urljoin(hostname, 'api/v1/data/stream')\n",
    "        print_request('GET', event_stream_request_url)\n",
    "        event_stream_response = requests.get(event_stream_request_url, stream=True)\n",
    "        check_response(event_stream_response, print_body=False)\n",
    "        for event in event_stream_response.iter_lines():\n",
    "            print(event)\n",
    "\n",
    "    if arguments.listProfiles:\n",
    "        list_profiles_request_url = urljoin(hostname, 'api/v1/profiles')\n",
    "        print_request('GET', list_profiles_request_url)\n",
    "        check_response(requests.get(list_profiles_request_url))\n",
    "\n",
    "\n",
    "if __name__ == \"__main__\":\n",
    "    main()\n"
   ]
  },
  {
   "cell_type": "code",
   "execution_count": null,
   "id": "6011def7",
   "metadata": {},
   "outputs": [],
   "source": [
    "python hello_reader.py --reader"
   ]
  },
  {
   "cell_type": "code",
   "execution_count": 22,
   "id": "dc7aa3dd",
   "metadata": {},
   "outputs": [
    {
     "name": "stdout",
     "output_type": "stream",
     "text": [
      "Requirement already satisfied: confluent-kafka in c:\\users\\91990\\anaconda3\\lib\\site-packages (1.9.2)\n"
     ]
    }
   ],
   "source": [
    "!pip install confluent-kafka --user"
   ]
  },
  {
   "cell_type": "code",
   "execution_count": null,
   "id": "904a259b",
   "metadata": {},
   "outputs": [],
   "source": [
    ".\\bin\\windows\\zookeeper-server-start.bat .\\config\\zookeeper.properties"
   ]
  },
  {
   "cell_type": "code",
   "execution_count": null,
   "id": "ffe5c333",
   "metadata": {},
   "outputs": [],
   "source": [
    ".\\bin\\windows\\kafka-server-start.bat .\\config\\server.properties"
   ]
  },
  {
   "cell_type": "code",
   "execution_count": null,
   "id": "72edd767",
   "metadata": {},
   "outputs": [],
   "source": [
    "\n",
    ".\\bin\\cmak -Dconfig.file=conf\\application.conf -Dhttp.port=8080"
   ]
  },
  {
   "cell_type": "code",
   "execution_count": null,
   "id": "8b9410d6",
   "metadata": {},
   "outputs": [],
   "source": [
    "from kafka import KafkaConsumer\n",
    "consumer = KafkaConsumer('impinj', client_id = \"cd1\")\n",
    "for msg in consumer:\n",
    "    print(msg)"
   ]
  },
  {
   "cell_type": "code",
   "execution_count": null,
   "id": "2b686a12",
   "metadata": {},
   "outputs": [],
   "source": []
  }
 ],
 "metadata": {
  "kernelspec": {
   "display_name": "Python 3 (ipykernel)",
   "language": "python",
   "name": "python3"
  },
  "language_info": {
   "codemirror_mode": {
    "name": "ipython",
    "version": 3
   },
   "file_extension": ".py",
   "mimetype": "text/x-python",
   "name": "python",
   "nbconvert_exporter": "python",
   "pygments_lexer": "ipython3",
   "version": "3.9.12"
  }
 },
 "nbformat": 4,
 "nbformat_minor": 5
}
